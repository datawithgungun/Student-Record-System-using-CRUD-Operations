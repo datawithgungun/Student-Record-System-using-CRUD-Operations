{
 "cells": [
  {
   "cell_type": "code",
   "execution_count": null,
   "id": "4798ab3e-2c92-4e5e-8286-2f34a4e68d24",
   "metadata": {},
   "outputs": [
    {
     "name": "stdout",
     "output_type": "stream",
     "text": [
      "\n",
      "----- Student Records-----\n",
      "1. Insert Student\n",
      "2. Display All Students\n",
      "3. Update Student Grade\n",
      "4. Delete Student\n",
      "5. Exit\n"
     ]
    },
    {
     "name": "stdin",
     "output_type": "stream",
     "text": [
      "Enter your choice (1-5):  1\n",
      "Enter name:  Aarya\n",
      "Enter age:  23\n",
      "Enter grade:  A\n"
     ]
    },
    {
     "name": "stdout",
     "output_type": "stream",
     "text": [
      "Student inserted successfully.\n",
      "\n",
      "----- Student Records-----\n",
      "1. Insert Student\n",
      "2. Display All Students\n",
      "3. Update Student Grade\n",
      "4. Delete Student\n",
      "5. Exit\n"
     ]
    },
    {
     "name": "stdin",
     "output_type": "stream",
     "text": [
      "Enter your choice (1-5):  1\n",
      "Enter name:  Gungun\n",
      "Enter age:  22\n",
      "Enter grade:  A\n"
     ]
    },
    {
     "name": "stdout",
     "output_type": "stream",
     "text": [
      "Student inserted successfully.\n",
      "\n",
      "----- Student Records-----\n",
      "1. Insert Student\n",
      "2. Display All Students\n",
      "3. Update Student Grade\n",
      "4. Delete Student\n",
      "5. Exit\n"
     ]
    },
    {
     "name": "stdin",
     "output_type": "stream",
     "text": [
      "Enter your choice (1-5):  1\n",
      "Enter name:  Khushi\n",
      "Enter age:  22\n",
      "Enter grade:  B\n"
     ]
    },
    {
     "name": "stdout",
     "output_type": "stream",
     "text": [
      "Student inserted successfully.\n",
      "\n",
      "----- Student Records-----\n",
      "1. Insert Student\n",
      "2. Display All Students\n",
      "3. Update Student Grade\n",
      "4. Delete Student\n",
      "5. Exit\n"
     ]
    },
    {
     "name": "stdin",
     "output_type": "stream",
     "text": [
      "Enter your choice (1-5):  1\n",
      "Enter name:  Monika\n",
      "Enter age:  23\n",
      "Enter grade:  B+\n"
     ]
    },
    {
     "name": "stdout",
     "output_type": "stream",
     "text": [
      "Student inserted successfully.\n",
      "\n",
      "----- Student Records-----\n",
      "1. Insert Student\n",
      "2. Display All Students\n",
      "3. Update Student Grade\n",
      "4. Delete Student\n",
      "5. Exit\n"
     ]
    },
    {
     "name": "stdin",
     "output_type": "stream",
     "text": [
      "Enter your choice (1-5):  2\n"
     ]
    },
    {
     "name": "stdout",
     "output_type": "stream",
     "text": [
      "ID\tName\tAge\tGrade\n",
      "(1, 'Aarya', 22, 'A')\n",
      "(2, 'Gungun', 21, 'A')\n",
      "(3, 'Khushi', 22, 'A+')\n",
      "(5, 'Saurabh', 24, 'B+')\n",
      "(6, 'Yash', 22, 'B+')\n",
      "(7, 'gungun', 22, 'a')\n",
      "(8, 'Gungun', 22, 'A')\n",
      "(9, 'Aarya', 23, 'A')\n",
      "(10, 'Aarya', 23, 'A')\n",
      "(11, 'Gungun', 22, 'A')\n",
      "(12, 'Khushi', 22, 'B')\n",
      "(13, 'Monika', 23, 'B+')\n",
      "\n",
      "----- Student Records-----\n",
      "1. Insert Student\n",
      "2. Display All Students\n",
      "3. Update Student Grade\n",
      "4. Delete Student\n",
      "5. Exit\n"
     ]
    },
    {
     "name": "stdin",
     "output_type": "stream",
     "text": [
      "Enter your choice (1-5):  3\n",
      "Enter student ID:  13\n",
      "Enter new grade:  C\n"
     ]
    },
    {
     "name": "stdout",
     "output_type": "stream",
     "text": [
      "Grade updated successfully.\n",
      "\n",
      "----- Student Records-----\n",
      "1. Insert Student\n",
      "2. Display All Students\n",
      "3. Update Student Grade\n",
      "4. Delete Student\n",
      "5. Exit\n"
     ]
    }
   ],
   "source": [
    "## import mysql.connector      #imports MySQL connector module\n",
    "# DATABASE CONNECTION FUNCTION\n",
    "def get_connection():\n",
    "    return mysql.connector.connect(\n",
    "        host=\"localhost\",\n",
    "        user=\"root\",\n",
    "        password=\"gungun123\",\n",
    "        database=\"school\")\n",
    "# INSERT STUDENTS\n",
    "def insert_student(name, age, grade):\n",
    "    conn = get_connection()\n",
    "    cursor = conn.cursor()\n",
    "    cursor.execute(\"INSERT INTO students (name, age, grade) VALUES (%s, %s, %s)\", (name, age, grade))\n",
    "    conn.commit()\n",
    "    print(\"Student inserted successfully.\")\n",
    "    conn.close()\n",
    "# DISPLAY ALL STUDENTS\n",
    "def display_students():\n",
    "    conn = get_connection()\n",
    "    cursor = conn.cursor()\n",
    "    cursor.execute(\"SELECT * FROM students\")\n",
    "    results = cursor.fetchall()\n",
    "    print(\"ID\\tName\\tAge\\tGrade\")\n",
    "    for row in results:\n",
    "        print(row)\n",
    "    conn.close()\n",
    "# UPDATE STUDENT GRADE\n",
    "def update_grade(student_id, new_grade):\n",
    "    conn = get_connection()\n",
    "    cursor = conn.cursor()\n",
    "    cursor.execute(\"UPDATE students SET grade = %s WHERE id = %s\", (new_grade, student_id))\n",
    "    conn.commit()\n",
    "    print(\"Grade updated successfully.\")\n",
    "    conn.close()\n",
    "# DELETE STUDENT\n",
    "def delete_student(student_id):\n",
    "    conn = get_connection()\n",
    "    cursor = conn.cursor()\n",
    "    cursor.execute(\"DELETE FROM students WHERE id = %s\", (student_id,))\n",
    "    conn.commit()\n",
    "    print(\"Student deleted successfully.\")\n",
    "    conn.close()\n",
    "#MAIN MENU FUNCTION\n",
    "def main():\n",
    "    while True:\n",
    "        print(\"\\n----- Student Records-----\")\n",
    "        print(\"1. Insert Student\\n2. Display All Students\\n3. Update Student Grade\\n4. Delete Student\\n5. Exit\")\n",
    "        choice = input(\"Enter your choice (1-5): \")\n",
    "        \n",
    "        if choice == '1':\n",
    "            name = input(\"Enter name: \")\n",
    "            age = int(input(\"Enter age: \"))\n",
    "            grade = input(\"Enter grade: \")\n",
    "            insert_student(name, age, grade)\n",
    "        elif choice == '2':\n",
    "            display_students()\n",
    "        elif choice == '3':\n",
    "            student_id = int(input(\"Enter student ID: \"))\n",
    "            new_grade = input(\"Enter new grade: \")\n",
    "            update_grade(student_id, new_grade)\n",
    "        elif choice == '4':\n",
    "            student_id = int(input(\"Enter student ID to delete: \"))\n",
    "            delete_student(student_id)\n",
    "        elif choice == '5':\n",
    "            print(\"Exiting...\")\n",
    "            break\n",
    "        else:\n",
    "            print(\"Invalid choice. Please try again.\")\n",
    "main()"
   ]
  },
  {
   "cell_type": "code",
   "execution_count": null,
   "id": "751d31c7-76b6-46f9-84f7-273c37dd9e49",
   "metadata": {},
   "outputs": [],
   "source": []
  }
 ],
 "metadata": {
  "kernelspec": {
   "display_name": "Python 3 (ipykernel)",
   "language": "python",
   "name": "python3"
  },
  "language_info": {
   "codemirror_mode": {
    "name": "ipython",
    "version": 3
   },
   "file_extension": ".py",
   "mimetype": "text/x-python",
   "name": "python",
   "nbconvert_exporter": "python",
   "pygments_lexer": "ipython3",
   "version": "3.12.7"
  }
 },
 "nbformat": 4,
 "nbformat_minor": 5
}
